{
  "nbformat": 4,
  "nbformat_minor": 0,
  "metadata": {
    "colab": {
      "name": "Lab1.ipynb",
      "provenance": [],
      "collapsed_sections": []
    },
    "kernelspec": {
      "name": "python3",
      "display_name": "Python 3"
    },
    "language_info": {
      "name": "python"
    }
  },
  "cells": [
    {
      "cell_type": "code",
      "source": [
        "class Student:\n",
        "    def __init__(self,ID,Name,Age,Gender,Phone):\n",
        "        \n",
        "        self.ID=ID\n",
        "        self.Name=Name\n",
        "        self.Age=Age\n",
        "        self.Gender=Gender\n",
        "        self.Phone=Phone\n",
        "    def get_data(self):\n",
        "        self.ID=input(\"Enter ID:\")\n",
        "        self.Name=input(\"Enter name:\")\n",
        "        self.Age=int(input(\"Enter age:\"))\n",
        "        self.Gender=input(\"Enter gender:\")\n",
        "        self.Phone=int(input(\"Enter Phone number:\"))\n",
        "    def display(self):\n",
        "        print(\"              \")\n",
        "        print(\"----Student Details----\")\n",
        "        print(\"ID :\",self.ID)\n",
        "        print(\"Name :\",self.Name)\n",
        "        print(\"Age :\",self.Age)\n",
        "        print(\"Gender :\",self.Gender)\n",
        "        print(\"Phone number :\",self.Phone)\n",
        "\n",
        "#object calling\n",
        "obj=Student('ID','Name','Age','Gender','Phone')\n",
        "obj.get_data()\n",
        "obj.display()\n"
      ],
      "metadata": {
        "colab": {
          "base_uri": "https://localhost:8080/"
        },
        "id": "8qdXR_ABPvsZ",
        "outputId": "3d86c8a3-02b6-4010-8578-c74f54d63432"
      },
      "execution_count": 1,
      "outputs": [
        {
          "output_type": "stream",
          "name": "stdout",
          "text": [
            "Enter ID:N180447\n",
            "Enter name:Amani\n",
            "Enter age:18\n",
            "Enter gender:Female\n",
            "Enter Phone number:9381790582\n",
            "              \n",
            "----Student Details----\n",
            "ID : N180447\n",
            "Name : Amani\n",
            "Age : 18\n",
            "Gender : Female\n",
            "Phone number : 9381790582\n"
          ]
        }
      ]
    },
    {
      "cell_type": "code",
      "source": [
        "class Nuz_Student(Student):\n",
        "    def __init__(self):\n",
        "        print(\"*Nuzvid Student\")\n",
        "    def whereis(self):\n",
        "        print(\"IIIT,Nuzvid,Mylavaram road,Krishna(dt),521201.\")\n",
        "obj_Nzd=Nuz_Student()\n",
        "obj_Nzd.whereis()\n"
      ],
      "metadata": {
        "colab": {
          "base_uri": "https://localhost:8080/"
        },
        "id": "yMNqeEK9QFj4",
        "outputId": "aad252dc-6e5f-411e-b104-376f52186bcf"
      },
      "execution_count": 3,
      "outputs": [
        {
          "output_type": "stream",
          "name": "stdout",
          "text": [
            "*Nuzvid Student\n",
            "IIIT,Nuzvid,Mylavaram road,Krishna(dt),521201.\n"
          ]
        }
      ]
    }
  ]
}